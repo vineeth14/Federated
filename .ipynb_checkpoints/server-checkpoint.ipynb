{
 "cells": [
  {
   "cell_type": "code",
   "execution_count": 1,
   "metadata": {},
   "outputs": [
    {
     "name": "stderr",
     "output_type": "stream",
     "text": [
      "usage: ipykernel_launcher.py [-h] [--port PORT] [--host HOST] [--id ID]\n",
      "                             [--verbose]\n",
      "ipykernel_launcher.py: error: unrecognized arguments: -f /home/vineeth/.local/share/jupyter/runtime/kernel-593ae248-a5b4-4e5c-9088-512f97babd6d.json\n"
     ]
    },
    {
     "ename": "SystemExit",
     "evalue": "2",
     "output_type": "error",
     "traceback": [
      "An exception has occurred, use %tb to see the full traceback.\n",
      "\u001b[0;31mSystemExit\u001b[0m\u001b[0;31m:\u001b[0m 2\n"
     ]
    },
    {
     "name": "stderr",
     "output_type": "stream",
     "text": [
      "/home/vineeth/anaconda3/lib/python3.7/site-packages/IPython/core/interactiveshell.py:3327: UserWarning: To exit: use 'exit', 'quit', or Ctrl-D.\n",
      "  warn(\"To exit: use 'exit', 'quit', or Ctrl-D.\", stacklevel=1)\n"
     ]
    }
   ],
   "source": [
    "from multiprocessing import Process\n",
    "import syft as sy\n",
    "from syft.workers.websocket_server import WebsocketServerWorker\n",
    "import torch\n",
    "import argparse\n",
    "import os\n",
    "\n",
    "hook = sy.TorchHook(torch)\n",
    "\n",
    "\n",
    "def start_proc(participant, kwargs):  # pragma: no cover\n",
    "    \"\"\" helper function for spinning up a websocket participant \"\"\"\n",
    "\n",
    "    def target():\n",
    "        server = participant(**kwargs)\n",
    "        server.start()\n",
    "\n",
    "    p = Process(target=target)\n",
    "    p.start()\n",
    "    return p\n",
    "\n",
    "\n",
    "parser = argparse.ArgumentParser(description=\"Run websocket server worker.\")\n",
    "\n",
    "parser.add_argument(\n",
    "    \"--port\", \"-p\", type=int, help=\"port number of the websocket server worker, e.g. --port 8777\"\n",
    ")\n",
    "\n",
    "parser.add_argument(\"--host\", type=str, default=\"localhost\", help=\"host for the connection\")\n",
    "\n",
    "parser.add_argument(\n",
    "    \"--id\", type=str, help=\"name (id) of the websocket server worker, e.g. --id alice\"\n",
    ")\n",
    "\n",
    "parser.add_argument(\n",
    "    \"--verbose\",\n",
    "    \"-v\",\n",
    "    action=\"store_true\",\n",
    "    help=\"if set, websocket server worker will be started in verbose mode\",\n",
    ")\n",
    "\n",
    "args = parser.parse_args()\n",
    "\n",
    "kwargs = {\n",
    "    \"id\": args.id,\n",
    "    \"host\": args.host,\n",
    "    \"port\": args.port,\n",
    "    \"hook\": hook,\n",
    "    \"verbose\": args.verbose,\n",
    "}\n",
    "\n",
    "\n",
    "if os.name != \"nt\":\n",
    "    server = start_proc(WebsocketServerWorker, kwargs)\n",
    "else:\n",
    "    server = WebsocketServerWorker(**kwargs)\n",
    "    server.start()"
   ]
  },
  {
   "cell_type": "code",
   "execution_count": null,
   "metadata": {},
   "outputs": [],
   "source": []
  }
 ],
 "metadata": {
  "kernelspec": {
   "display_name": "Python 3",
   "language": "python",
   "name": "python3"
  }
 },
 "nbformat": 4,
 "nbformat_minor": 2
}
