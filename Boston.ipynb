{
 "cells": [
  {
   "cell_type": "code",
   "execution_count": 49,
   "metadata": {},
   "outputs": [],
   "source": [
    "%reload_ext autoreload\n",
    "%autoreload 2\n",
    "%matplotlib inline\n",
    "import torch"
   ]
  },
  {
   "cell_type": "code",
   "execution_count": 50,
   "metadata": {},
   "outputs": [],
   "source": [
    "from fastai.vision import *"
   ]
  },
  {
   "cell_type": "code",
   "execution_count": 51,
   "metadata": {},
   "outputs": [],
   "source": [
    "import numpy as np\n",
    "import pandas as pd\n",
    "import scipy.stats as stats\n",
    "import matplotlib.pyplot as plt\n",
    "import sklearn\n",
    "from sklearn.datasets import load_boston\n",
    "from torch import nn,optim\n",
    "import torch as th\n",
    "import syft as sy"
   ]
  },
  {
   "cell_type": "code",
   "execution_count": 52,
   "metadata": {},
   "outputs": [
    {
     "name": "stderr",
     "output_type": "stream",
     "text": [
      "WARNING:root:Torch was already hooked... skipping hooking process\n"
     ]
    }
   ],
   "source": [
    "hook = sy.TorchHook(th)\n",
    "boston = load_boston()\n",
    "boston_data = pd.DataFrame(boston.data)\n"
   ]
  },
  {
   "cell_type": "code",
   "execution_count": 53,
   "metadata": {},
   "outputs": [
    {
     "name": "stdout",
     "output_type": "stream",
     "text": [
      "dict_keys(['data', 'target', 'feature_names', 'DESCR', 'filename'])\n"
     ]
    }
   ],
   "source": [
    "print(boston.keys())\n"
   ]
  },
  {
   "cell_type": "code",
   "execution_count": 54,
   "metadata": {},
   "outputs": [
    {
     "name": "stdout",
     "output_type": "stream",
     "text": [
      "      CRIM    ZN  INDUS  CHAS    NOX     RM   AGE     DIS  RAD    TAX  \\\n",
      "0  0.00632  18.0   2.31   0.0  0.538  6.575  65.2  4.0900  1.0  296.0   \n",
      "1  0.02731   0.0   7.07   0.0  0.469  6.421  78.9  4.9671  2.0  242.0   \n",
      "2  0.02729   0.0   7.07   0.0  0.469  7.185  61.1  4.9671  2.0  242.0   \n",
      "3  0.03237   0.0   2.18   0.0  0.458  6.998  45.8  6.0622  3.0  222.0   \n",
      "4  0.06905   0.0   2.18   0.0  0.458  7.147  54.2  6.0622  3.0  222.0   \n",
      "\n",
      "   PTRATIO       B  LSTAT  \n",
      "0     15.3  396.90   4.98  \n",
      "1     17.8  396.90   9.14  \n",
      "2     17.8  392.83   4.03  \n",
      "3     18.7  394.63   2.94  \n",
      "4     18.7  396.90   5.33  \n"
     ]
    }
   ],
   "source": [
    "bo = pd.DataFrame(boston.data)\n",
    "bo.columns = boston.feature_names\n",
    "print(bo.head())\n",
    "boston_target = boston.target"
   ]
  },
  {
   "cell_type": "code",
   "execution_count": 55,
   "metadata": {},
   "outputs": [
    {
     "name": "stdout",
     "output_type": "stream",
     "text": [
      "[24.  21.6 34.7 33.4 ... 20.6 23.9 22.  11.9]\n"
     ]
    }
   ],
   "source": [
    "print(boston_target)"
   ]
  },
  {
   "cell_type": "code",
   "execution_count": 56,
   "metadata": {},
   "outputs": [],
   "source": [
    "X=torch.tensor(boston_data.values,requires_grad=True,dtype=torch.float)\n",
    "Y=torch.tensor(boston_target,requires_grad=True,dtype=torch.float)"
   ]
  },
  {
   "cell_type": "code",
   "execution_count": 57,
   "metadata": {},
   "outputs": [
    {
     "name": "stdout",
     "output_type": "stream",
     "text": [
      "torch.Size([506, 13])\n"
     ]
    }
   ],
   "source": [
    "print (X.shape)"
   ]
  },
  {
   "cell_type": "code",
   "execution_count": null,
   "metadata": {},
   "outputs": [],
   "source": []
  },
  {
   "cell_type": "code",
   "execution_count": 58,
   "metadata": {},
   "outputs": [],
   "source": [
    "Y=Y.reshape((506,1))"
   ]
  },
  {
   "cell_type": "code",
   "execution_count": 59,
   "metadata": {
    "scrolled": true
   },
   "outputs": [],
   "source": [
    "bob=sy.VirtualWorker(hook,id='bob')\n"
   ]
  },
  {
   "cell_type": "code",
   "execution_count": 60,
   "metadata": {},
   "outputs": [],
   "source": [
    "bill=sy.VirtualWorker(hook,id='bill')\n",
    "rupert = sy.VirtualWorker(hook,id='rupert')"
   ]
  },
  {
   "cell_type": "code",
   "execution_count": 61,
   "metadata": {},
   "outputs": [],
   "source": [
    "bob_train= X[0:180].send(bob)\n",
    "bob_target=Y[0:180].send(bob)"
   ]
  },
  {
   "cell_type": "code",
   "execution_count": 62,
   "metadata": {},
   "outputs": [],
   "source": [
    "bill_train = X[180:360].send(bill)\n",
    "bill_target=Y[180:360].send(bill)\n",
    "test_data = X[360:]\n",
    "test_target = Y[360:].send(rupert)"
   ]
  },
  {
   "cell_type": "code",
   "execution_count": 63,
   "metadata": {},
   "outputs": [],
   "source": [
    "loss_function= nn.MSELoss()"
   ]
  },
  {
   "cell_type": "code",
   "execution_count": 64,
   "metadata": {},
   "outputs": [],
   "source": [
    "loss_function_bob = nn.MSELoss()"
   ]
  },
  {
   "cell_type": "code",
   "execution_count": 65,
   "metadata": {},
   "outputs": [],
   "source": [
    "datasets =[(bob_train,bob_target),(bill_train,bill_target)]"
   ]
  },
  {
   "cell_type": "code",
   "execution_count": 66,
   "metadata": {},
   "outputs": [],
   "source": [
    "def federated(iterations=100):\n",
    "\n",
    "    model=nn.Sequential(nn.Linear(13, 18), nn.ReLU(),\n",
    "                       nn.Linear(18, 10), nn.ReLU(),\n",
    "                       nn.Linear(10, 5), nn.ReLU(),\n",
    "                       nn.Linear(5, 1))\n",
    "    opt =optim.SGD(params=model.parameters(),lr=0.01)\n",
    "    \n",
    "    for iter in range (iterations):\n",
    "   \n",
    "        for _data,_target in datasets:\n",
    "             # sending model\n",
    "                model=model.send(_data.location)\n",
    "\n",
    "             #training on the different machines\n",
    "                opt.zero_grad()\n",
    "                pred=model(_data)\n",
    "                loss=loss_function(pred,_target)                                 \n",
    "                loss.backward()\n",
    "                opt.step()\n",
    "             \n",
    "             #Get trained model\n",
    "                model=model.get()\n",
    "\n",
    "                print(loss.get())\n"
   ]
  },
  {
   "cell_type": "code",
   "execution_count": 67,
   "metadata": {
    "scrolled": true
   },
   "outputs": [
    {
     "name": "stdout",
     "output_type": "stream",
     "text": [
      "tensor(595.3028, requires_grad=True)\n",
      "tensor(2803.2136, requires_grad=True)\n",
      "tensor(462.5965, requires_grad=True)\n",
      "tensor(746.7130, requires_grad=True)\n",
      "tensor(425.7882, requires_grad=True)\n",
      "tensor(700.4594, requires_grad=True)\n",
      "tensor(392.0512, requires_grad=True)\n",
      "tensor(657.5869, requires_grad=True)\n",
      "tensor(361.1385, requires_grad=True)\n",
      "tensor(617.8418, requires_grad=True)\n",
      "tensor(332.8227, requires_grad=True)\n",
      "tensor(580.9890, requires_grad=True)\n",
      "tensor(306.8945, requires_grad=True)\n",
      "tensor(546.8116, requires_grad=True)\n",
      "tensor(283.1609, requires_grad=True)\n",
      "tensor(515.1093, requires_grad=True)\n",
      "tensor(261.4444, requires_grad=True)\n",
      "tensor(485.6970, requires_grad=True)\n",
      "tensor(241.5815, requires_grad=True)\n",
      "tensor(458.4035, requires_grad=True)\n",
      "tensor(223.4216, requires_grad=True)\n",
      "tensor(433.0713, requires_grad=True)\n",
      "tensor(206.8262, requires_grad=True)\n",
      "tensor(409.5540, requires_grad=True)\n",
      "tensor(191.6677, requires_grad=True)\n",
      "tensor(387.7168, requires_grad=True)\n",
      "tensor(177.8286, requires_grad=True)\n",
      "tensor(367.4350, requires_grad=True)\n",
      "tensor(165.2009, requires_grad=True)\n",
      "tensor(348.5934, requires_grad=True)\n",
      "tensor(153.6850, requires_grad=True)\n",
      "tensor(331.0856, requires_grad=True)\n",
      "tensor(143.1896, requires_grad=True)\n",
      "tensor(314.8132, requires_grad=True)\n",
      "tensor(133.6304, requires_grad=True)\n",
      "tensor(299.6851, requires_grad=True)\n",
      "tensor(124.9298, requires_grad=True)\n",
      "tensor(285.6170, requires_grad=True)\n",
      "tensor(117.0165, requires_grad=True)\n",
      "tensor(272.5315, requires_grad=True)\n",
      "tensor(109.8251, requires_grad=True)\n",
      "tensor(260.3564, requires_grad=True)\n",
      "tensor(103.2953, requires_grad=True)\n",
      "tensor(249.0253, requires_grad=True)\n",
      "tensor(97.3716, requires_grad=True)\n",
      "tensor(238.4767, requires_grad=True)\n",
      "tensor(92.0030, requires_grad=True)\n",
      "tensor(228.6536, requires_grad=True)\n",
      "tensor(87.1426, requires_grad=True)\n",
      "tensor(219.5035, requires_grad=True)\n",
      "tensor(82.7474, requires_grad=True)\n",
      "tensor(210.9776, requires_grad=True)\n",
      "tensor(78.7778, requires_grad=True)\n",
      "tensor(203.0309, requires_grad=True)\n",
      "tensor(75.1974, requires_grad=True)\n",
      "tensor(195.6217, requires_grad=True)\n",
      "tensor(71.9728, requires_grad=True)\n",
      "tensor(188.7114, requires_grad=True)\n",
      "tensor(69.0732, requires_grad=True)\n",
      "tensor(182.2643, requires_grad=True)\n",
      "tensor(66.4705, requires_grad=True)\n",
      "tensor(176.2474, requires_grad=True)\n",
      "tensor(64.1388, requires_grad=True)\n",
      "tensor(170.6301, requires_grad=True)\n",
      "tensor(62.0544, requires_grad=True)\n",
      "tensor(165.3839, requires_grad=True)\n",
      "tensor(60.1953, requires_grad=True)\n",
      "tensor(160.4827, requires_grad=True)\n",
      "tensor(58.5416, requires_grad=True)\n",
      "tensor(155.9022, requires_grad=True)\n",
      "tensor(57.0750, requires_grad=True)\n",
      "tensor(151.6197, requires_grad=True)\n",
      "tensor(55.7785, requires_grad=True)\n",
      "tensor(147.6145, requires_grad=True)\n",
      "tensor(54.6368, requires_grad=True)\n",
      "tensor(143.8672, requires_grad=True)\n",
      "tensor(53.6357, requires_grad=True)\n",
      "tensor(140.3599, requires_grad=True)\n",
      "tensor(52.7622, requires_grad=True)\n",
      "tensor(137.0761, requires_grad=True)\n",
      "tensor(52.0044, requires_grad=True)\n",
      "tensor(134.0002, requires_grad=True)\n",
      "tensor(51.3515, requires_grad=True)\n",
      "tensor(131.1179, requires_grad=True)\n",
      "tensor(50.7935, requires_grad=True)\n",
      "tensor(128.4161, requires_grad=True)\n",
      "tensor(50.3212, requires_grad=True)\n",
      "tensor(125.8824, requires_grad=True)\n",
      "tensor(49.9264, requires_grad=True)\n",
      "tensor(123.5055, requires_grad=True)\n",
      "tensor(49.6014, requires_grad=True)\n",
      "tensor(121.2747, requires_grad=True)\n",
      "tensor(49.3392, requires_grad=True)\n",
      "tensor(119.1802, requires_grad=True)\n",
      "tensor(49.1334, requires_grad=True)\n",
      "tensor(117.2130, requires_grad=True)\n",
      "tensor(48.9784, requires_grad=True)\n",
      "tensor(115.3645, requires_grad=True)\n",
      "tensor(48.8687, requires_grad=True)\n",
      "tensor(113.6269, requires_grad=True)\n",
      "tensor(48.7995, requires_grad=True)\n",
      "tensor(111.9927, requires_grad=True)\n",
      "tensor(48.7664, requires_grad=True)\n",
      "tensor(110.4554, requires_grad=True)\n",
      "tensor(48.7654, requires_grad=True)\n",
      "tensor(109.0085, requires_grad=True)\n",
      "tensor(48.7928, requires_grad=True)\n",
      "tensor(107.6460, requires_grad=True)\n",
      "tensor(48.8453, requires_grad=True)\n",
      "tensor(106.3627, requires_grad=True)\n",
      "tensor(48.9198, requires_grad=True)\n",
      "tensor(105.1535, requires_grad=True)\n",
      "tensor(49.0137, requires_grad=True)\n",
      "tensor(104.0135, requires_grad=True)\n",
      "tensor(49.1244, requires_grad=True)\n",
      "tensor(102.9383, requires_grad=True)\n",
      "tensor(49.2497, requires_grad=True)\n",
      "tensor(101.9240, requires_grad=True)\n",
      "tensor(49.3874, requires_grad=True)\n",
      "tensor(100.9665, requires_grad=True)\n",
      "tensor(49.5359, requires_grad=True)\n",
      "tensor(100.0625, requires_grad=True)\n",
      "tensor(49.6933, requires_grad=True)\n",
      "tensor(99.2086, requires_grad=True)\n",
      "tensor(49.8582, requires_grad=True)\n",
      "tensor(98.4016, requires_grad=True)\n",
      "tensor(50.0292, requires_grad=True)\n",
      "tensor(97.6388, requires_grad=True)\n",
      "tensor(50.2051, requires_grad=True)\n",
      "tensor(96.9173, requires_grad=True)\n",
      "tensor(50.3848, requires_grad=True)\n",
      "tensor(96.2348, requires_grad=True)\n",
      "tensor(50.5674, requires_grad=True)\n",
      "tensor(95.5889, requires_grad=True)\n",
      "tensor(50.7518, requires_grad=True)\n",
      "tensor(94.9773, requires_grad=True)\n",
      "tensor(50.9374, requires_grad=True)\n",
      "tensor(94.3980, requires_grad=True)\n",
      "tensor(51.1234, requires_grad=True)\n",
      "tensor(93.8491, requires_grad=True)\n",
      "tensor(51.3093, requires_grad=True)\n",
      "tensor(93.3289, requires_grad=True)\n",
      "tensor(51.4944, requires_grad=True)\n",
      "tensor(92.8356, requires_grad=True)\n",
      "tensor(51.6783, requires_grad=True)\n",
      "tensor(92.3678, requires_grad=True)\n",
      "tensor(51.8605, requires_grad=True)\n",
      "tensor(91.9239, requires_grad=True)\n",
      "tensor(52.0408, requires_grad=True)\n",
      "tensor(91.5026, requires_grad=True)\n",
      "tensor(52.2187, requires_grad=True)\n",
      "tensor(91.1025, requires_grad=True)\n",
      "tensor(52.3940, requires_grad=True)\n",
      "tensor(90.7226, requires_grad=True)\n",
      "tensor(52.5664, requires_grad=True)\n",
      "tensor(90.3616, requires_grad=True)\n",
      "tensor(52.7357, requires_grad=True)\n",
      "tensor(90.0185, requires_grad=True)\n",
      "tensor(52.9018, requires_grad=True)\n",
      "tensor(89.6923, requires_grad=True)\n",
      "tensor(53.0646, requires_grad=True)\n",
      "tensor(89.3822, requires_grad=True)\n",
      "tensor(53.2238, requires_grad=True)\n",
      "tensor(89.0871, requires_grad=True)\n",
      "tensor(53.3795, requires_grad=True)\n",
      "tensor(88.8064, requires_grad=True)\n",
      "tensor(53.5315, requires_grad=True)\n",
      "tensor(88.5391, requires_grad=True)\n",
      "tensor(53.6798, requires_grad=True)\n",
      "tensor(88.2847, requires_grad=True)\n",
      "tensor(53.8244, requires_grad=True)\n",
      "tensor(88.0424, requires_grad=True)\n",
      "tensor(53.9652, requires_grad=True)\n",
      "tensor(87.8116, requires_grad=True)\n",
      "tensor(54.1023, requires_grad=True)\n",
      "tensor(87.5917, requires_grad=True)\n",
      "tensor(54.2356, requires_grad=True)\n",
      "tensor(87.3821, requires_grad=True)\n",
      "tensor(54.3652, requires_grad=True)\n",
      "tensor(87.1824, requires_grad=True)\n",
      "tensor(54.4910, requires_grad=True)\n",
      "tensor(86.9918, requires_grad=True)\n",
      "tensor(54.6133, requires_grad=True)\n",
      "tensor(86.8101, requires_grad=True)\n",
      "tensor(54.7318, requires_grad=True)\n",
      "tensor(86.6368, requires_grad=True)\n",
      "tensor(54.8468, requires_grad=True)\n",
      "tensor(86.4714, requires_grad=True)\n",
      "tensor(54.9583, requires_grad=True)\n",
      "tensor(86.3135, requires_grad=True)\n",
      "tensor(55.0663, requires_grad=True)\n",
      "tensor(86.1628, requires_grad=True)\n",
      "tensor(55.1710, requires_grad=True)\n",
      "tensor(86.0189, requires_grad=True)\n",
      "tensor(55.2723, requires_grad=True)\n",
      "tensor(85.8815, requires_grad=True)\n",
      "tensor(55.3703, requires_grad=True)\n",
      "tensor(85.7503, requires_grad=True)\n",
      "tensor(55.4651, requires_grad=True)\n",
      "tensor(85.6249, requires_grad=True)\n"
     ]
    }
   ],
   "source": [
    "federated()"
   ]
  },
  {
   "cell_type": "code",
   "execution_count": null,
   "metadata": {},
   "outputs": [],
   "source": []
  },
  {
   "cell_type": "code",
   "execution_count": null,
   "metadata": {},
   "outputs": [],
   "source": []
  },
  {
   "cell_type": "code",
   "execution_count": null,
   "metadata": {},
   "outputs": [],
   "source": []
  }
 ],
 "metadata": {
  "kernelspec": {
   "display_name": "Python 3",
   "language": "python",
   "name": "python3"
  },
  "language_info": {
   "codemirror_mode": {
    "name": "ipython",
    "version": 3
   },
   "file_extension": ".py",
   "mimetype": "text/x-python",
   "name": "python",
   "nbconvert_exporter": "python",
   "pygments_lexer": "ipython3",
   "version": "3.7.3"
  }
 },
 "nbformat": 4,
 "nbformat_minor": 2
}
