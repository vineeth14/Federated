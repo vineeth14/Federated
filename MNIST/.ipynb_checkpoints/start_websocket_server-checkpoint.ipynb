{
 "cells": [
  {
   "cell_type": "code",
   "execution_count": 3,
   "metadata": {},
   "outputs": [
    {
     "name": "stdout",
     "output_type": "stream",
     "text": [
      "Starting server for Alice\n",
      "Starting server for Bob\n",
      "Starting server for Charlie\n"
     ]
    },
    {
     "data": {
      "text/plain": [
       "<subprocess.Popen at 0x7f6b842cdef0>"
      ]
     },
     "execution_count": 3,
     "metadata": {},
     "output_type": "execute_result"
    }
   ],
   "source": [
    "import subprocess\n",
    "import sys\n",
    "import os\n",
    "\n",
    "if os.name == \"nt\":\n",
    "    python = \"python\"\n",
    "else:\n",
    "    python = \"python\" + sys.version[0:3]\n",
    "\n",
    "call_alice = [python, \"run_websocket_server.py\", \"--port\", \"8777\", \"--id\", \"alice\"]\n",
    "\n",
    "call_bob = [python, \"run_websocket_server.py\", \"--port\", \"8778\", \"--id\", \"bob\"]\n",
    "\n",
    "call_charlie = [python, \"run_websocket_server.py\", \"--port\", \"8779\", \"--id\", \"charlie\"]\n",
    "\n",
    "\n",
    "print(\"Starting server for Alice\")\n",
    "subprocess.Popen(call_alice)\n",
    "\n",
    "print(\"Starting server for Bob\")\n",
    "subprocess.Popen(call_bob)\n",
    "\n",
    "print(\"Starting server for Charlie\")\n",
    "subprocess.Popen(call_charlie)"
   ]
  },
  {
   "cell_type": "code",
   "execution_count": 1,
   "metadata": {},
   "outputs": [
    {
     "name": "stdout",
     "output_type": "stream",
     "text": [
      "run_websocket_client.ipynb  start_websocket_server.ipynb\r\n",
      "run_websocket_server.ipynb\r\n"
     ]
    }
   ],
   "source": [
    "ls"
   ]
  }
 ],
 "metadata": {
  "kernelspec": {
   "display_name": "Python 3",
   "language": "python",
   "name": "python3"
  },
  "language_info": {
   "codemirror_mode": {
    "name": "ipython",
    "version": 3
   },
   "file_extension": ".py",
   "mimetype": "text/x-python",
   "name": "python",
   "nbconvert_exporter": "python",
   "pygments_lexer": "ipython3",
   "version": "3.7.3"
  }
 },
 "nbformat": 4,
 "nbformat_minor": 2
}
